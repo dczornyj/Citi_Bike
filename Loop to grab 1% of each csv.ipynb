{
 "cells": [
  {
   "cell_type": "code",
   "execution_count": 60,
   "id": "b705c4db",
   "metadata": {},
   "outputs": [],
   "source": [
    "import pandas as pd"
   ]
  },
  {
   "cell_type": "markdown",
   "id": "6a6cf9c0",
   "metadata": {},
   "source": [
    "# GENERATING SAMPLE SETS FOR EACH MONTH (JULY 2021-JUNE 2022)\n"
   ]
  },
  {
   "cell_type": "code",
   "execution_count": 61,
   "id": "327e50d7",
   "metadata": {},
   "outputs": [],
   "source": [
    "monthyear=[\"202107\",\"202108\",\"202109\",\"202110\",\"202111\",\"202112\",\"202201\",\"202202\",\"202203\",\"202204\",\"202205\",\"202206\"]\n",
    "sample_df = pd.DataFrame()\n",
    "for month in monthyear:\n",
    "    pathwaytofile=f\"files_for_analysis/{month}-citibike-tripdata.csv\"\n",
    "    df=pd.read_csv(pathwaytofile,low_memory=False)\n",
    "    df = df.sample(frac=0.010, random_state=42)\n",
    "    sample_df=sample_df.append(df)\n",
    "\n",
    "sample_df = sample_df.reset_index(drop=True)\n",
    "    \n",
    "    "
   ]
  },
  {
   "cell_type": "code",
   "execution_count": null,
   "id": "1f5b5b43",
   "metadata": {},
   "outputs": [],
   "source": [
    "sample_df.to_csv(\"July21-June22_citibike_rides_sample.csv\", index=False)"
   ]
  }
 ],
 "metadata": {
  "kernelspec": {
   "display_name": "Python 3 (ipykernel)",
   "language": "python",
   "name": "python3"
  },
  "language_info": {
   "codemirror_mode": {
    "name": "ipython",
    "version": 3
   },
   "file_extension": ".py",
   "mimetype": "text/x-python",
   "name": "python",
   "nbconvert_exporter": "python",
   "pygments_lexer": "ipython3",
   "version": "3.9.7"
  }
 },
 "nbformat": 4,
 "nbformat_minor": 5
}
